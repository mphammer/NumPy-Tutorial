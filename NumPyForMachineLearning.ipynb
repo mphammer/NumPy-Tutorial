{
 "cells": [
  {
   "cell_type": "markdown",
   "metadata": {},
   "source": [
    "# Numpy Tutorial for Machine Learning\n",
    "\n",
    "This tutorial will teach you the basic skills needed to use NumPy for Machine Learning. It will provide a brief overview of NumPy's core features and then focus more specifically on aspects that are useful for Machine Learning problems.  \n",
    "\n",
    "**What is NumPy?**   \n",
    "\"NumPy is the fundamental package for scientific computing in Python. It is a Python library that provides a multidimensional array object, various derived objects (such as masked arrays and matrices), and an assortment of routines for fast operations on arrays...\" - [NumPy.org](https://numpy.org/doc/stable/user/quickstart.html)\n",
    "\n",
    "**How does NumPy Relate to Machine Learning?**  \n",
    "As the definition states, \"NumPy is the fundamental package for scientific computing in Python\". This means that popular Python libraries for machine learning are built on top of it (For example, [Pandas](https://pandas.pydata.org/docs/index.html), [Scikit-Learn](https://scikit-learn.org/stable/), and [matplotlib](https://matplotlib.org/)). It's common to use NumPy's n-dimensional array when using the other libraries or for the other libraries to have similar functionality. \n",
    "\n",
    "The fundamental building block of NumPy is the multidimensinal array. The NumPy array can show up in different ways during a Machine Learning problem but it will commonly represent your Dataset, pieces of your Dataset, or ouput from methods like predicting values or calculating accuracy scores. Therefore, the most important things to know are how to look at values, create/read/update/delete rows (examples), and create/read/update/delete columns (features). \n",
    "\n",
    "**Extra Learning**  \n",
    "The guides on [numpy.org](https://numpy.org/doc/stable/user/quickstart.html) are very good and largely what this guide is based on.  "
   ]
  },
  {
   "cell_type": "markdown",
   "metadata": {},
   "source": [
    "# Table of Contents\n",
    "\n",
    "1. [Set Up Your Environment and Import NumPy](#set-up-your-environment-and-import-numpy)\n",
    "2. [Introducing the Homogeneous Multidimensional Array](#introducing-the-homogeneous-multiimensional-array)\n",
    "    1. [Key Array Features: Multidimensional and Homogeneous](#key-array-features-multidimensional-and-homogenous)\n",
    "    2. [Quick Look at How Arrays are Printed](#quick-look-at-how-arrays-are-printed)\n",
    "    3. [Basic Array Operations](#basic-array-operations)\n",
    "    4. [Basic Array Methods](#basic-array-methods)\n",
    "3. [Indexing Arrays](#indexing-arrays)\n",
    "4. [Slicing Arrays](#slicing-arrays)\n",
    "5. [Changing the Shape of Arrays](#changing-the-shape-of-arrays)\n",
    "6. [CRUD Operations on Two Dimensional Arrays](#crud-create-read-update-delete-operations-on-two-dimensional-arrays-tables)\n",
    "    1. [Create](#create)\n",
    "    2. [Read](#read)\n",
    "    3. [Update](#update)\n",
    "    4. [Delete](#delete)"
   ]
  },
  {
   "cell_type": "markdown",
   "metadata": {},
   "source": [
    "## Set Up Your Environment and Import NumPy"
   ]
  },
  {
   "cell_type": "markdown",
   "metadata": {},
   "source": [
    "Create a Virtual Environment (For Mac)  \n",
    "```\n",
    "$ python -m venv venv  \n",
    "$ source venv/bin/activate  \n",
    "```\n",
    "\n",
    "Install numpy  \n",
    "```$ pip install numpy  ```"
   ]
  },
  {
   "cell_type": "code",
   "execution_count": 90,
   "metadata": {},
   "outputs": [],
   "source": [
    "import numpy as np"
   ]
  },
  {
   "cell_type": "markdown",
   "metadata": {},
   "source": [
    "## Introducing the Homogeneous Multiimensional array\n",
    "\n",
    "The homogenous n-dimensional array (narray) is the core of NumPy. \n",
    "\n",
    "The main features:\n",
    "- Homogeneous - all its values are of one type\n",
    "- N-dimensinoal (multidimensional)\n",
    "- Extra Operations - it has more methods/operations than Python's built in array\n",
    "- Fixed size - adding elements creates an entire new array\n",
    "- Fast - operations are much faster than Python's built in array (list)\n",
    "\n",
    "Note: Each dimension is called an \"axis\". So a 3-dimensional array has 3 axis."
   ]
  },
  {
   "cell_type": "markdown",
   "metadata": {},
   "source": [
    "### Key Array Features: Multidimensional and Homogenous"
   ]
  },
  {
   "cell_type": "code",
   "execution_count": 91,
   "metadata": {},
   "outputs": [
    {
     "name": "stdout",
     "output_type": "stream",
     "text": [
      "Standard Python Array (list):\n",
      "[1, 2, 3, 4]\n",
      "<class 'list'>\n",
      "\n",
      "A One Dimensional NumPy array that we created from the Python array:\n",
      "[1 2 3 4]\n",
      "<class 'numpy.ndarray'>\n"
     ]
    }
   ],
   "source": [
    "print(\"Standard Python Array (list):\")\n",
    "one_dimensional_python_array = [1,2,3,4]\n",
    "print(one_dimensional_python_array)\n",
    "print(type(one_dimensional_python_array))\n",
    "print()\n",
    "\n",
    "print(\"A One Dimensional NumPy array that we created from the Python array:\")\n",
    "one_dimensional_numpy_array = np.array([1,2,3,4])\n",
    "print(one_dimensional_numpy_array)\n",
    "print(type(one_dimensional_numpy_array))"
   ]
  },
  {
   "cell_type": "code",
   "execution_count": 92,
   "metadata": {},
   "outputs": [
    {
     "name": "stdout",
     "output_type": "stream",
     "text": [
      "Python arrays (lists) aren't really multidimensional. They do not have buult in methods for finding their shape or dimensions\n",
      "[[1, 2, 3, 4], [5, 6, 7, 8]]\n",
      "Shape: (2, 4)\n",
      "Size: 8\n",
      "Dimensions: 2\n",
      "\n",
      "NumPy Array:\n",
      "[[1 2 3 4]\n",
      " [5 6 7 8]]\n",
      "Shape: (2, 4)\n",
      "Size: 8\n",
      "Dimensions: 2\n"
     ]
    }
   ],
   "source": [
    "print(\"Python arrays (lists) aren't really multidimensional. They do not have buult in methods for finding their shape or dimensions\")\n",
    "two_dimensional_python_array = [[1,2,3,4], [5,6,7,8]]\n",
    "rows = len(two_dimensional_python_array)\n",
    "cols = len(two_dimensional_python_array[0])\n",
    "print(two_dimensional_python_array)\n",
    "print(\"Shape: {}\".format((rows, cols)))\n",
    "print(\"Size: {}\".format(rows*cols))\n",
    "dimensions = 0\n",
    "temp_array = two_dimensional_python_array\n",
    "while type(temp_array) == list:\n",
    "    dimensions += 1\n",
    "    temp_array = temp_array[0]\n",
    "print(\"Dimensions: {}\".format(dimensions))\n",
    "print()\n",
    "\n",
    "print(\"NumPy Array:\")\n",
    "two_dimensional_numpy_array = np.array([[1,2,3,4], [5,6,7,8]])\n",
    "print(two_dimensional_numpy_array)\n",
    "print(\"Shape: {}\".format(two_dimensional_numpy_array.shape))\n",
    "print(\"Size: {}\".format(two_dimensional_numpy_array.size))\n",
    "print(\"Dimensions: {}\".format(two_dimensional_numpy_array.ndim))"
   ]
  },
  {
   "cell_type": "code",
   "execution_count": 93,
   "metadata": {},
   "outputs": [
    {
     "name": "stdout",
     "output_type": "stream",
     "text": [
      "Three Dimensional Array:\n",
      "[[[1 2 3 4]]\n",
      "\n",
      " [[5 6 7 8]]]\n",
      "Shape: (2, 1, 4)\n",
      "Size: 8\n",
      "Dimensions: 3\n",
      "\n",
      "Three Dimensional Array:\n",
      "[[[1 2]\n",
      "  [3 4]]\n",
      "\n",
      " [[5 6]\n",
      "  [7 8]]]\n",
      "Shape: (2, 2, 2)\n",
      "Size: 8\n",
      "Dimensions: 3\n"
     ]
    }
   ],
   "source": [
    "print(\"Three Dimensional Array:\")\n",
    "three_dimensional_python_array_1 = np.array(\n",
    "    [[[1,2,3,4]],\n",
    "    [[5,6,7,8]]]\n",
    ")\n",
    "print(three_dimensional_python_array_1)\n",
    "print(\"Shape: {}\".format(three_dimensional_python_array_1.shape))\n",
    "print(\"Size: {}\".format(three_dimensional_python_array_1.size))\n",
    "print(\"Dimensions: {}\".format(three_dimensional_python_array_1.ndim))\n",
    "print()\n",
    "\n",
    "print(\"Three Dimensional Array:\")\n",
    "three_dimensional_python_array_2 = np.array(\n",
    "    [[[1,2],[3,4]],\n",
    "    [[5,6],[7,8]]]\n",
    ")\n",
    "print(three_dimensional_python_array_2)\n",
    "print(\"Shape: {}\".format(three_dimensional_python_array_2.shape))\n",
    "print(\"Size: {}\".format(three_dimensional_python_array_2.size))\n",
    "print(\"Dimensions: {}\".format(three_dimensional_python_array_2.ndim))"
   ]
  },
  {
   "cell_type": "code",
   "execution_count": 94,
   "metadata": {},
   "outputs": [
    {
     "name": "stdout",
     "output_type": "stream",
     "text": [
      "Four Dimensional Array\n",
      "[[[[1 2 3 4]]\n",
      "\n",
      "  [[5 6 7 8]]]]\n",
      "Shape: (1, 2, 1, 4)\n",
      "Size: 8\n",
      "Dimensions: 4\n",
      "\n",
      "Four Dimensional Array\n",
      "[[[[1]\n",
      "   [2]]\n",
      "\n",
      "  [[3]\n",
      "   [4]]]\n",
      "\n",
      "\n",
      " [[[5]\n",
      "   [6]]\n",
      "\n",
      "  [[7]\n",
      "   [8]]]]\n",
      "Shape: (2, 2, 2, 1)\n",
      "Size: 8\n",
      "Dimensions: 4\n"
     ]
    }
   ],
   "source": [
    "print(\"Four Dimensional Array\")\n",
    "four_dimensional_python_array_1 = np.array(\n",
    "    [[[[1,2,3,4]],\n",
    "    [[5,6,7,8]]]]\n",
    ")\n",
    "print(four_dimensional_python_array_1)\n",
    "print(\"Shape: {}\".format(four_dimensional_python_array_1.shape))\n",
    "print(\"Size: {}\".format(four_dimensional_python_array_1.size))\n",
    "print(\"Dimensions: {}\".format(four_dimensional_python_array_1.ndim))\n",
    "print()\n",
    "\n",
    "print(\"Four Dimensional Array\")\n",
    "four_dimensional_python_array_2 = np.array(\n",
    "    [[[[1],[2]], [[3],[4]]],[[[5],[6]], [[7],[8]]]]\n",
    ")\n",
    "print(four_dimensional_python_array_2)\n",
    "print(\"Shape: {}\".format(four_dimensional_python_array_2.shape))\n",
    "print(\"Size: {}\".format(four_dimensional_python_array_2.size))\n",
    "print(\"Dimensions: {}\".format(four_dimensional_python_array_2.ndim))"
   ]
  },
  {
   "cell_type": "markdown",
   "metadata": {},
   "source": [
    "#### Quick Look At How Arrays Are Printed\n",
    "\n",
    "- The last dimension (axis) is printed horizontally.  \n",
    "- The 2nd to last dimension (axis) is printed vertically.  \n",
    "- The other dimensions (axis) are separated by empty lines. And there is an extra line for each additional dimension.  \n",
    "\n",
    "**One Dimensional**  \n",
    "There is only a \"last dimension\" so it's just printed horizontally. \n",
    "```\n",
    "[0 1 2 3]\n",
    "```\n",
    "\n",
    "**Two Dimensions**  \n",
    "Each item in the second to last dimension are printed on a new row (vertically).  \n",
    "And the last dimension is printed horixontally.  \n",
    "```\n",
    "[[1 2 3]\n",
    " [4 5 6]]\n",
    "```\n",
    "\n",
    "**Three Dimensions**  \n",
    "The items in the third dimension are separated by a single space.  \n",
    "Notice how it looks like two \"two dimensional\" arrays are separated by an empty line.  \n",
    "```\n",
    "[[[ 1  2  3]\n",
    "  [ 4  5  6]]\n",
    "  \n",
    " [[ 7  8  9]\n",
    "  [10 22 12]]]\n",
    "```\n",
    "\n",
    "**Four Dimensions**\n",
    "The items in the fourth dimension are separated by two spaces.  \n",
    "The items in the third dimension are still separated by a single space.  \n",
    "```\n",
    "[[[[ 0  1  2]\n",
    "   [ 3  4  5]]\n",
    "\n",
    "  [[ 6  7  8]\n",
    "   [ 9 10 11]]]\n",
    "\n",
    "\n",
    " [[[12 13 14]\n",
    "   [15 16 17]]\n",
    "\n",
    "  [[18 19 20]\n",
    "   [21 22 23]]]]\n",
    "```"
   ]
  },
  {
   "cell_type": "markdown",
   "metadata": {},
   "source": [
    "### Basic Array Operations"
   ]
  },
  {
   "cell_type": "code",
   "execution_count": 95,
   "metadata": {},
   "outputs": [
    {
     "name": "stdout",
     "output_type": "stream",
     "text": [
      "[-2  0  2]\n",
      "[4 4 4]\n",
      "[2 4 6]\n",
      "[9 4 1]\n"
     ]
    }
   ],
   "source": [
    "# Elementwise arithmetic operators\n",
    "a = np.array([1,2,3])\n",
    "b = np.array([3,2,1])\n",
    "print(a-b)  # [(1-3) (2-2) (3-1)]\n",
    "print(a+b)  # [(1+3) (2+2) (3+1)]\n",
    "print(a*2)  # [(1*2) (2*2) (3*2)]\n",
    "print(b**2) # [(3^2) (2^2) (1^2)]"
   ]
  },
  {
   "cell_type": "markdown",
   "metadata": {},
   "source": [
    "### Basic Array Methods"
   ]
  },
  {
   "cell_type": "code",
   "execution_count": 96,
   "metadata": {},
   "outputs": [
    {
     "name": "stdout",
     "output_type": "stream",
     "text": [
      "The Sum of All Elements is: 66\n",
      "The Sum of Each Column is: [12 15 18 21]\n",
      "The Sum of Each Row is: [ 6 22 38]\n",
      "The Min Elements is: 0\n",
      "The Min of Each Column: [0 1 2 3]\n",
      "The Max Elements is: 11\n",
      "The Max of Each Row: [ 3  7 11]\n"
     ]
    }
   ],
   "source": [
    "np_array = np.array([[ 0,  1,  2,  3],\n",
    "       [ 4,  5,  6,  7],\n",
    "       [ 8,  9, 10, 11]])\n",
    "print(\"The Sum of All Elements is: {}\".format(np_array.sum()))\n",
    "print(\"The Sum of Each Column is: {}\".format(np_array.sum(axis=0)))\n",
    "print(\"The Sum of Each Row is: {}\".format(np_array.sum(axis=1)))\n",
    "print(\"The Min Elements is: {}\".format(np_array.min()))\n",
    "print(\"The Min of Each Column: {}\".format(np_array.min(axis=0)))\n",
    "print(\"The Max Elements is: {}\".format(np_array.max()))\n",
    "print(\"The Max of Each Row: {}\".format(np_array.max(axis=1)))"
   ]
  },
  {
   "cell_type": "code",
   "execution_count": 97,
   "metadata": {},
   "outputs": [
    {
     "name": "stdout",
     "output_type": "stream",
     "text": [
      "The dot product of [1 2] and [3 4] is 11.\n"
     ]
    }
   ],
   "source": [
    "# The Dot Product is Useful When Doing Linear Algebra \n",
    "\n",
    "np_array_a = np.array([1,2])\n",
    "np_array_b = np.array([3,4])\n",
    "print(\"The dot product of {} and {} is {}.\".format(np_array_a, np_array_b, np_array_a.dot(np_array_b)))"
   ]
  },
  {
   "cell_type": "markdown",
   "metadata": {},
   "source": [
    "## Indexing Arrays  \n",
    "For each axis (dimension) there can be 1 index.\n",
    "Looking at the `.shape` attribute is a useful way to know what the range of values is for each dimension.  "
   ]
  },
  {
   "cell_type": "code",
   "execution_count": 98,
   "metadata": {},
   "outputs": [
    {
     "name": "stdout",
     "output_type": "stream",
     "text": [
      "Dimensions: 1; Shape: (3,)\n",
      "[1 2 3]\n",
      "one_dimensional_array[0] = 1\n",
      "one_dimensional_array[1] = 2\n",
      "\n",
      "Dimensions: 2; Shape: (2, 3)\n",
      "[[1 2 3]\n",
      " [4 5 6]]\n",
      "two_dimensional_array[0,0] = 1\n",
      "two_dimensional_array[1,3] = 6\n",
      "two_dimensional_array[0] = [1 2 3]\n",
      "\n",
      "Dimensions: 3; Shape: (2, 2, 4)\n",
      "[[[ 1  2  3  4]\n",
      "  [ 5  6  7  8]]\n",
      "\n",
      " [[ 9 10 11 12]\n",
      "  [13 14 15 16]]]\n",
      "three_dimensional_array[0,0] = [1 2 3 4]\n",
      "three_dimensional_array[0,1] = [5 6 7 8]\n",
      "three_dimensional_array[1,0] = [ 9 10 11 12]\n",
      "three_dimensional_array[1,1] = [13 14 15 16]\n",
      "\n"
     ]
    }
   ],
   "source": [
    "one_dimensional_array = np.array(\n",
    "    [1,2,3]\n",
    ")\n",
    "two_dimensional_array = np.array(\n",
    "    [[1,2,3], \n",
    "    [4,5,6]]\n",
    ")\n",
    "three_dimensional_array = np.array(\n",
    "    [\n",
    "        [[ 1, 2, 3, 4],\n",
    "         [ 5, 6, 7, 8]],\n",
    "\n",
    "        [[ 9,10,11,12],\n",
    "         [13,14,15,16]],\n",
    "    ]\n",
    ")\n",
    "print(\"Dimensions: {}; Shape: {}\".format(one_dimensional_array.ndim, one_dimensional_array.shape))\n",
    "print(one_dimensional_array)\n",
    "print(\"one_dimensional_array[0] = {}\".format(one_dimensional_array[0]))\n",
    "print(\"one_dimensional_array[1] = {}\".format(one_dimensional_array[1]))\n",
    "print()\n",
    "\n",
    "print(\"Dimensions: {}; Shape: {}\".format(two_dimensional_array.ndim, two_dimensional_array.shape))\n",
    "print(two_dimensional_array)\n",
    "print(\"two_dimensional_array[0,0] = {}\".format(two_dimensional_array[0,0]))\n",
    "print(\"two_dimensional_array[1,3] = {}\".format(two_dimensional_array[1,2]))\n",
    "print(\"two_dimensional_array[0] = {}\".format(two_dimensional_array[0]))\n",
    "print()\n",
    "\n",
    "print(\"Dimensions: {}; Shape: {}\".format(three_dimensional_array.ndim, three_dimensional_array.shape))\n",
    "print(three_dimensional_array)\n",
    "print(\"three_dimensional_array[0,0] = {}\".format(three_dimensional_array[0,0]))\n",
    "print(\"three_dimensional_array[0,1] = {}\".format(three_dimensional_array[0,1]))\n",
    "print(\"three_dimensional_array[1,0] = {}\".format(three_dimensional_array[1,0]))\n",
    "print(\"three_dimensional_array[1,1] = {}\".format(three_dimensional_array[1,1]))\n",
    "print()"
   ]
  },
  {
   "cell_type": "code",
   "execution_count": 99,
   "metadata": {},
   "outputs": [
    {
     "name": "stdout",
     "output_type": "stream",
     "text": [
      "Use the Shape of the NumPy Array to print each element:\n",
      "Shape: (2, 2, 4)\n",
      "1 2 3 4 \n",
      "5 6 7 8 \n",
      "\n",
      "9 10 11 12 \n",
      "13 14 15 16 \n",
      "\n"
     ]
    }
   ],
   "source": [
    "print(\"Use the Shape of the NumPy Array to print each element:\")\n",
    "def print_array(np_array):\n",
    "    # Base Case: Print each element if it's the last demension (aka it's a 1D array)\n",
    "    if np_array.ndim == 1:\n",
    "        for element in np_array:\n",
    "            print(\"{} \".format(element), end=\"\")\n",
    "        return \n",
    "    # Loop over each sub-np_array at this dimension\n",
    "    shape = np_array.shape\n",
    "    num_np_arrays = shape[0]\n",
    "    for i in range(num_np_arrays):\n",
    "        print_array(np_array[i])\n",
    "        print()\n",
    "\n",
    "print(\"Shape: {}\".format(three_dimensional_array.shape))\n",
    "print_array(three_dimensional_array)\n"
   ]
  },
  {
   "cell_type": "markdown",
   "metadata": {},
   "source": [
    "## Slicing Arrays\n",
    "\n",
    "For each axis (dimension) there can be 1 slice. Again, it's useful to look at the `.shape` attribute.   \n",
    "The slice is entered in the format `start_index:end_index`.     \n",
    "For example, `np_array[0:2,0:2]` takes the first two elements in the first axis and from each of those it takes the first two elements. "
   ]
  },
  {
   "cell_type": "code",
   "execution_count": 100,
   "metadata": {},
   "outputs": [
    {
     "name": "stdout",
     "output_type": "stream",
     "text": [
      "Dimensions: 1; Shape: (6,)\n",
      "[1 2 3 4 5 6]\n",
      "one_dimensional_array[1:] = [2 3 4 5 6]\n",
      "one_dimensional_array[1:4] = [2 3 4]\n",
      "one_dimensional_array[:] = [1 2 3 4 5 6]\n",
      "\n",
      "Dimensions: 2; Shape: (2, 6)\n",
      "[[ 1  2  3  4  5  6]\n",
      " [ 7  8  9 10 11 12]]\n",
      "two_dimensional_array[:,0] = [1 7] # Get all elements in the first dimension and take the 0th index (1st column)\n",
      "two_dimensional_array[:,1] = [1 7] # Get all elements in the first dimension and take the 1st index (2nd column)\n",
      "two_dimensional_array[0,:] = [1 2 3 4 5 6] # Get the first element in the first dimension and take all elements (1st row)\n",
      "two_dimensional_array[0:2,0:2] = \n",
      "[[1 2]\n",
      " [7 8]]\n",
      "\n",
      "Dimensions: 3; Shape: (2, 2, 6)\n",
      "[[[ 1  2  3  4  5  6]\n",
      "  [ 7  8  9 10 11 12]]\n",
      "\n",
      " [[13 14 15 16 17 18]\n",
      "  [19 20 21 22 23 24]]]\n",
      "three_dimensional_array[0,0:2,0:2] = \n",
      "[[1 2]\n",
      " [7 8]]\n",
      "three_dimensional_array[1,0:2,0:2] = \n",
      "[[13 14]\n",
      " [19 20]]\n",
      "three_dimensional_array[:,0:2,0:2] = \n",
      "[[[ 1  2]\n",
      "  [ 7  8]]\n",
      "\n",
      " [[13 14]\n",
      "  [19 20]]]\n",
      "\n"
     ]
    }
   ],
   "source": [
    "''' \n",
    "NOTE: If you are using VS Code and the output is being truncated you need to: \n",
    "1. Open Settings and Search for \"notebook.output.textLineLimit\" \n",
    "2. Set that value to 1000\n",
    "3. Close this file and re open it (don't just restart VS Code - actually re-open the file)\n",
    "'''\n",
    "\n",
    "one_dimensional_array = np.array(\n",
    "    [1,2,3,4,5,6]\n",
    ")\n",
    "two_dimensional_array = np.array(\n",
    "    [[ 1, 2, 3, 4, 5, 6], \n",
    "     [ 7, 8, 9,10,11,12]]\n",
    ")\n",
    "three_dimensional_array = np.array(\n",
    "    [\n",
    "        [[ 1, 2, 3, 4, 5, 6],\n",
    "         [ 7, 8, 9,10,11,12]],\n",
    "\n",
    "        [[13,14,15,16,17,18],\n",
    "         [19,20,21,22,23,24]],\n",
    "    ]\n",
    ")\n",
    "print(\"Dimensions: {}; Shape: {}\".format(one_dimensional_array.ndim, one_dimensional_array.shape))\n",
    "print(one_dimensional_array)\n",
    "print(\"one_dimensional_array[1:] = {}\".format(one_dimensional_array[1:]))\n",
    "print(\"one_dimensional_array[1:4] = {}\".format(one_dimensional_array[1:4]))\n",
    "print(\"one_dimensional_array[:] = {}\".format(one_dimensional_array[:]))\n",
    "print()\n",
    "\n",
    "print(\"Dimensions: {}; Shape: {}\".format(two_dimensional_array.ndim, two_dimensional_array.shape))\n",
    "print(two_dimensional_array)\n",
    "print(\"two_dimensional_array[:,0] = {} # Get all elements in the first dimension and take the 0th index (1st column)\".format(two_dimensional_array[:,0]))\n",
    "print(\"two_dimensional_array[:,1] = {} # Get all elements in the first dimension and take the 1st index (2nd column)\".format(two_dimensional_array[:,0]))\n",
    "print(\"two_dimensional_array[0,:] = {} # Get the first element in the first dimension and take all elements (1st row)\".format(two_dimensional_array[0,:]))\n",
    "print(\"two_dimensional_array[0:2,0:2] = \\n{}\".format(two_dimensional_array[0:2,0:2]))\n",
    "print()\n",
    "\n",
    "print(\"Dimensions: {}; Shape: {}\".format(three_dimensional_array.ndim, three_dimensional_array.shape))\n",
    "print(three_dimensional_array)\n",
    "print(\"three_dimensional_array[0,0:2,0:2] = \\n{}\".format(three_dimensional_array[0,0:2,0:2]))\n",
    "print(\"three_dimensional_array[1,0:2,0:2] = \\n{}\".format(three_dimensional_array[1,0:2,0:2]))\n",
    "print(\"three_dimensional_array[:,0:2,0:2] = \\n{}\".format(three_dimensional_array[:,0:2,0:2]))\n",
    "print()"
   ]
  },
  {
   "cell_type": "markdown",
   "metadata": {},
   "source": [
    "## Changing the Shape of Arrays"
   ]
  },
  {
   "cell_type": "code",
   "execution_count": 101,
   "metadata": {},
   "outputs": [
    {
     "name": "stdout",
     "output_type": "stream",
     "text": [
      ".resize() modified the array in-place\n",
      "Orignial Array Shape: (6,)\n",
      "Original Array Shape: (3, 2) # see that it was modified\n",
      "\n",
      ".reshape() modified the array out-of-place\n",
      "Original Array Shape: (6,)\n",
      "Original Array Shape: (6,) # see that it was NOT modified\n",
      "New Array Shape: (3, 2)\n"
     ]
    }
   ],
   "source": [
    "# In Place - Modfies the array itself\n",
    "print(\".resize() modified the array in-place\")\n",
    "np_array = np.array([1,2,3,4,5,6])\n",
    "print(\"Orignial Array Shape: {}\".format(np_array.shape))\n",
    "np_array.resize(3,2)\n",
    "print(\"Original Array Shape: {} # see that it was modified\".format(np_array.shape))\n",
    "print()\n",
    "\n",
    "# Out of Place - Returns a new array\n",
    "print(\".reshape() modified the array out-of-place\")\n",
    "np_array = np.array([1,2,3,4,5,6])\n",
    "print(\"Original Array Shape: {}\".format(np_array.shape))\n",
    "new_np_array = np_array.reshape(3,2)\n",
    "print(\"Original Array Shape: {} # see that it was NOT modified\".format(np_array.shape))\n",
    "print(\"New Array Shape: {}\".format(new_np_array.shape))"
   ]
  },
  {
   "cell_type": "markdown",
   "metadata": {},
   "source": [
    "The size of the new array must be the same as the original array.   \n",
    "\n",
    "It's easy to see how this function works when you have a one-dimensional list and then reshape it. It splits the data into the number of groups of the first axis, then it splits those into the number of the second axis, and then those into the same number of the third axis, etc.     \n",
    "\n",
    "It's harder when you start with an array that's not one-dimensional. The best way to think about it is that the function first flattens the array (check out the ravel function) and then reshapes it.     "
   ]
  },
  {
   "cell_type": "code",
   "execution_count": 102,
   "metadata": {},
   "outputs": [
    {
     "name": "stdout",
     "output_type": "stream",
     "text": [
      "Orignial Array: \n",
      "[1 2 3 4 5 6]\n",
      "Raveled Original Array: \n",
      "[1 2 3 4 5 6]\n",
      "\n",
      "original_array.reshape(1,6): \n",
      "[[1 2 3 4 5 6]]\n",
      "original_array.reshape(6,1): \n",
      "[[1]\n",
      " [2]\n",
      " [3]\n",
      " [4]\n",
      " [5]\n",
      " [6]]\n",
      "original_array.reshape(3,2): \n",
      "[[1 2]\n",
      " [3 4]\n",
      " [5 6]]\n",
      "original_array.reshape(2,3): \n",
      "[[1 2 3]\n",
      " [4 5 6]]\n",
      "original_array.reshape(3,2,1): \n",
      "[[[1]\n",
      "  [2]]\n",
      "\n",
      " [[3]\n",
      "  [4]]\n",
      "\n",
      " [[5]\n",
      "  [6]]]\n",
      "original_array.reshape(2,3,1): \n",
      "[[[1]\n",
      "  [2]\n",
      "  [3]]\n",
      "\n",
      " [[4]\n",
      "  [5]\n",
      "  [6]]]\n",
      "original_array.reshape(1,3,2): \n",
      "[[[1 2]\n",
      "  [3 4]\n",
      "  [5 6]]]\n",
      "original_array.reshape(1,2,3): \n",
      "[[[1 2 3]\n",
      "  [4 5 6]]]\n"
     ]
    }
   ],
   "source": [
    "# Example with an one-dimensional array\n",
    "original_array = np.array([1,2,3,4,5,6])\n",
    "print(\"Orignial Array: \\n{}\".format(original_array))\n",
    "print(\"Raveled Original Array: \\n{}\".format(original_array.ravel()))\n",
    "print()\n",
    "print(\"original_array.reshape(1,6): \\n{}\".format(original_array.reshape(1,6)))\n",
    "print(\"original_array.reshape(6,1): \\n{}\".format(original_array.reshape(6,1)))\n",
    "print(\"original_array.reshape(3,2): \\n{}\".format(original_array.reshape(3,2)))\n",
    "print(\"original_array.reshape(2,3): \\n{}\".format(original_array.reshape(2,3)))\n",
    "print(\"original_array.reshape(3,2,1): \\n{}\".format(original_array.reshape(3,2,1)))\n",
    "print(\"original_array.reshape(2,3,1): \\n{}\".format(original_array.reshape(2,3,1)))\n",
    "print(\"original_array.reshape(1,3,2): \\n{}\".format(original_array.reshape(1,3,2)))\n",
    "print(\"original_array.reshape(1,2,3): \\n{}\".format(original_array.reshape(1,2,3)))"
   ]
  },
  {
   "cell_type": "code",
   "execution_count": 103,
   "metadata": {},
   "outputs": [
    {
     "name": "stdout",
     "output_type": "stream",
     "text": [
      "Orignial Array: \n",
      "[[1 2 3]\n",
      " [4 5 6]]\n",
      "Raveled Original Array: \n",
      "[1 2 3 4 5 6]\n",
      "\n",
      "original_array.reshape(1,6): \n",
      "[[1 2 3 4 5 6]]\n",
      "original_array.reshape(3,2): \n",
      "[[1 2]\n",
      " [3 4]\n",
      " [5 6]]\n",
      "original_array.reshape(2,3,1): \n",
      "[[[1]\n",
      "  [2]\n",
      "  [3]]\n",
      "\n",
      " [[4]\n",
      "  [5]\n",
      "  [6]]]\n",
      "original_array.reshape(1,2,3): \n",
      "[[[1 2 3]\n",
      "  [4 5 6]]]\n"
     ]
    }
   ],
   "source": [
    "original_array = np.array([[1,2,3],[4,5,6]])\n",
    "print(\"Orignial Array: \\n{}\".format(original_array))\n",
    "print(\"Raveled Original Array: \\n{}\".format(original_array.ravel()))\n",
    "print()\n",
    "print(\"original_array.reshape(1,6): \\n{}\".format(original_array.reshape(1,6)))\n",
    "print(\"original_array.reshape(3,2): \\n{}\".format(original_array.reshape(3,2)))\n",
    "print(\"original_array.reshape(2,3,1): \\n{}\".format(original_array.reshape(2,3,1)))\n",
    "print(\"original_array.reshape(1,2,3): \\n{}\".format(original_array.reshape(1,2,3)))"
   ]
  },
  {
   "cell_type": "code",
   "execution_count": 104,
   "metadata": {},
   "outputs": [
    {
     "name": "stdout",
     "output_type": "stream",
     "text": [
      "Original Array:\n",
      "[[1 2 3]\n",
      " [4 5 6]\n",
      " [7 8 9]]\n",
      "Transposed Array:\n",
      "[[1 4 7]\n",
      " [2 5 8]\n",
      " [3 6 9]]\n"
     ]
    }
   ],
   "source": [
    "# Transpose is a useful operation for Linear Algebra\n",
    "\n",
    "np_array = np.array([\n",
    "        [1,2,3],\n",
    "        [4,5,6],\n",
    "        [7,8,9]\n",
    "    ])\n",
    "print(\"Original Array:\\n{}\".format(np_array))\n",
    "print(\"Transposed Array:\\n{}\".format(np.transpose(np_array)))"
   ]
  },
  {
   "cell_type": "markdown",
   "metadata": {},
   "source": [
    "## CRUD (Create, Read, Update, Delete) Operations on Two Dimensional Arrays (Tables)\n",
    "\n",
    "- Create: Add new columns and rows      \n",
    "- Read: Get/print columns, rows, and specific indexes      \n",
    "- Update: Update columns, rows, and specific indexes      \n",
    "- Delete: Remove columns, rows, and specific indexes      \n",
    "\n",
    "Your data will often look like a table which is essentially a 2 dimensional array. These are some of the basic operations that you will want to be able to do on a table.    \n",
    "\n",
    "### Create\n",
    "\n",
    "#### Create Columns"
   ]
  },
  {
   "cell_type": "code",
   "execution_count": 105,
   "metadata": {},
   "outputs": [
    {
     "name": "stdout",
     "output_type": "stream",
     "text": [
      "Initial 2D Array (Table):\n",
      "[[1 2 3]\n",
      " [5 6 7]]\n",
      "New Column:\n",
      "[[4]\n",
      " [8]]\n",
      "Updated Data Table:\n",
      "[[1 2 3 4]\n",
      " [5 6 7 8]]\n"
     ]
    }
   ],
   "source": [
    "# Hstack takes an array with the same number of axis and same number of columns, and concatenates to the right\n",
    "# H Stack = Horizontal Stack \n",
    "# https://numpy.org/doc/stable/reference/generated/numpy.hstack.html\n",
    "\n",
    "my_data = np.array(\n",
    "    [\n",
    "        [ 1, 2, 3],\n",
    "        [ 5, 6, 7]\n",
    "    ]\n",
    ")\n",
    "print(\"Initial 2D Array (Table):\\n{}\".format(my_data))\n",
    "\n",
    "new_column_values = np.array([4,8])\n",
    "new_column_reshaped = new_column_values.reshape(2,1)\n",
    "print(\"New Column:\\n{}\".format(new_column_reshaped))\n",
    "\n",
    "updated_my_data = np.hstack((my_data, new_column_reshaped))\n",
    "print(\"Updated Data Table:\\n{}\".format(updated_my_data))"
   ]
  },
  {
   "cell_type": "code",
   "execution_count": 106,
   "metadata": {},
   "outputs": [
    {
     "name": "stdout",
     "output_type": "stream",
     "text": [
      "Updated Data Table:\n",
      "[[ 1  2  3]\n",
      " [ 4  5  6]\n",
      " [ 7  8  9]\n",
      " [10 11 12]]\n"
     ]
    }
   ],
   "source": [
    "# column_stack\n",
    "\n",
    "column_a = np.array([ 1, 4, 7,10])\n",
    "column_b = np.array([ 2, 5, 8,11])\n",
    "column_c = np.array([ 3, 6, 9,12])\n",
    "\n",
    "my_data = np.column_stack((column_a, column_b, column_c))\n",
    "\n",
    "print(\"Updated Data Table:\\n{}\".format(my_data))"
   ]
  },
  {
   "cell_type": "code",
   "execution_count": 107,
   "metadata": {},
   "outputs": [
    {
     "data": {
      "text/plain": [
       "array([[ 1,  2,  3],\n",
       "       [ 4,  5,  6],\n",
       "       [ 7,  8,  9],\n",
       "       [10, 11, 12]])"
      ]
     },
     "execution_count": 107,
     "metadata": {},
     "output_type": "execute_result"
    }
   ],
   "source": [
    "# np.c_\n",
    "# https://numpy.org/doc/stable/reference/generated/numpy.c_.html\n",
    "column_a = np.array([ 1, 4, 7,10])\n",
    "column_b = np.array([ 2, 5, 8,11])\n",
    "column_c = np.array([ 3, 6, 9,12])\n",
    "\n",
    "np.c_[column_a, column_b, column_c]"
   ]
  },
  {
   "cell_type": "markdown",
   "metadata": {},
   "source": [
    "#### Create Rows\n",
    "\n",
    "The main ways to do this are by using the `np.vstack()` method and the `np.r_` method.    \n",
    "Note: `np.row_stack()` is exactly the same as `np.vstack()` (This is different from the above `np.hstack()` and `np.column_stack()`)    "
   ]
  },
  {
   "cell_type": "code",
   "execution_count": 108,
   "metadata": {},
   "outputs": [
    {
     "name": "stdout",
     "output_type": "stream",
     "text": [
      "Initial 2D Array (Table):\n",
      "[[1 2 3]\n",
      " [4 5 6]]\n",
      "New Column:\n",
      "[[7 8 9]]\n",
      "Updated Data Table:\n",
      "[[1 2 3]\n",
      " [4 5 6]\n",
      " [7 8 9]]\n"
     ]
    }
   ],
   "source": [
    "# Vstack takes an array with the same number of axis and same number of rows, and concatenates to the bottom\n",
    "# V Stack = Vertical Stack \n",
    "# https://numpy.org/doc/stable/reference/generated/numpy.vstack.html#numpy.vstack\n",
    "\n",
    "my_data = np.array(\n",
    "    [\n",
    "        [ 1, 2, 3],\n",
    "        [ 4, 5, 6]\n",
    "    ]\n",
    ")\n",
    "print(\"Initial 2D Array (Table):\\n{}\".format(my_data))\n",
    "\n",
    "new_column_values = np.array([7,8,9])\n",
    "new_column_reshaped = new_column_values.reshape(1,3)\n",
    "print(\"New Column:\\n{}\".format(new_column_reshaped))\n",
    "\n",
    "updated_my_data = np.vstack((my_data, new_column_reshaped))\n",
    "print(\"Updated Data Table:\\n{}\".format(updated_my_data))"
   ]
  },
  {
   "cell_type": "code",
   "execution_count": 109,
   "metadata": {},
   "outputs": [
    {
     "data": {
      "text/plain": [
       "array([[1, 2, 3],\n",
       "       [4, 5, 6],\n",
       "       [7, 8, 9]])"
      ]
     },
     "execution_count": 109,
     "metadata": {},
     "output_type": "execute_result"
    }
   ],
   "source": [
    "# np.r_ \n",
    "# Read more about this here: https://numpy.org/doc/stable/reference/generated/numpy.r_.html\n",
    "row_a = np.array([1,2,3])\n",
    "row_b = np.array([4,5,6])\n",
    "row_c = np.array([7,8,9])\n",
    "\n",
    "np.r_['0,2', row_a, row_b, row_c]"
   ]
  },
  {
   "cell_type": "markdown",
   "metadata": {},
   "source": [
    "### Read\n",
    "\n",
    "See the section on Indexing Arrays. Below are two examples for getting a specific row and a specific column.     "
   ]
  },
  {
   "cell_type": "code",
   "execution_count": 110,
   "metadata": {},
   "outputs": [
    {
     "name": "stdout",
     "output_type": "stream",
     "text": [
      "Row 0: [1 2 3]\n",
      "Row 1: [4 5 6]\n",
      "Row 2: [7 8 9]\n",
      "Col 0: [1 4 7]\n",
      "Col 1: [2 5 8]\n",
      "Col 2: [3 6 9]\n"
     ]
    }
   ],
   "source": [
    "two_dimensional_array = np.array(\n",
    "    [[ 1, 2, 3], \n",
    "     [ 4, 5, 6],\n",
    "     [ 7, 8, 9]]\n",
    ")\n",
    "\n",
    "def get_row(row_index, two_d_array):\n",
    "    return two_d_array[row_index]\n",
    "\n",
    "print(\"Row {}: {}\".format(0, get_row(0, two_dimensional_array)))\n",
    "print(\"Row {}: {}\".format(1, get_row(1, two_dimensional_array)))\n",
    "print(\"Row {}: {}\".format(2, get_row(2, two_dimensional_array)))\n",
    "\n",
    "def get_col(col_index, two_d_array):\n",
    "    return two_d_array[:, col_index]\n",
    "\n",
    "print(\"Col {}: {}\".format(0, get_col(0, two_dimensional_array)))\n",
    "print(\"Col {}: {}\".format(1, get_col(1, two_dimensional_array)))\n",
    "print(\"Col {}: {}\".format(2, get_col(2, two_dimensional_array)))"
   ]
  },
  {
   "cell_type": "markdown",
   "metadata": {},
   "source": [
    "### Update\n",
    "\n",
    "The basic way to do this is to take a slice of the array and set that equal to your new values.  "
   ]
  },
  {
   "cell_type": "code",
   "execution_count": 111,
   "metadata": {},
   "outputs": [
    {
     "name": "stdout",
     "output_type": "stream",
     "text": [
      "Initial Array:\n",
      "[[1 2 3]\n",
      " [4 5 6]\n",
      " [7 8 9]]\n",
      "Change Row 0:\n",
      "[[9 9 9]\n",
      " [4 5 6]\n",
      " [7 8 9]]\n",
      "Change Col 0:\n",
      "[[0 9 9]\n",
      " [0 5 6]\n",
      " [0 8 9]]\n"
     ]
    }
   ],
   "source": [
    "two_dimensional_array = np.array(\n",
    "    [[ 1, 2, 3], \n",
    "     [ 4, 5, 6],\n",
    "     [ 7, 8, 9]]\n",
    ")\n",
    "print(\"Initial Array:\\n{}\".format(two_dimensional_array))\n",
    "\n",
    "two_dimensional_array[0,:] = [9, 9, 9]\n",
    "print(\"Change Row 0:\\n{}\".format(two_dimensional_array))\n",
    "\n",
    "two_dimensional_array[:,0] = [0, 0, 0]\n",
    "print(\"Change Col 0:\\n{}\".format(two_dimensional_array))"
   ]
  },
  {
   "cell_type": "markdown",
   "metadata": {},
   "source": [
    "### Delete \n",
    "\n",
    "It's easiest to use the `np.delete()` method. Below I show how it can be done with slicing.    "
   ]
  },
  {
   "cell_type": "code",
   "execution_count": 112,
   "metadata": {},
   "outputs": [
    {
     "name": "stdout",
     "output_type": "stream",
     "text": [
      "Original Array:\n",
      "[[1 2 3]\n",
      " [4 5 6]\n",
      " [7 8 9]]\n",
      "Remove Row Index 1:\n",
      "[[1 2 3]\n",
      " [7 8 9]]\n",
      "Remove Col Index 1:\n",
      "[[1 3]\n",
      " [4 6]\n",
      " [7 9]]\n"
     ]
    }
   ],
   "source": [
    "two_dimensional_array = np.array(\n",
    "    [[ 1, 2, 3], \n",
    "     [ 4, 5, 6],\n",
    "     [ 7, 8, 9]]\n",
    ")\n",
    "\n",
    "print(\"Original Array:\\n{}\".format(two_dimensional_array))\n",
    "\n",
    "ROW_AXIS = 0\n",
    "COLUMN_AXIS = 1\n",
    "\n",
    "removed_row_array = np.delete(two_dimensional_array, 1, ROW_AXIS)\n",
    "print(\"Remove Row Index 1:\\n{}\".format(removed_row_array))\n",
    "\n",
    "removed_col_array = np.delete(two_dimensional_array, 1, COLUMN_AXIS)\n",
    "print(\"Remove Col Index 1:\\n{}\".format(removed_col_array))"
   ]
  },
  {
   "cell_type": "code",
   "execution_count": 113,
   "metadata": {},
   "outputs": [
    {
     "name": "stdout",
     "output_type": "stream",
     "text": [
      "Original Array:\n",
      "[[1 2 3]\n",
      " [4 5 6]\n",
      " [7 8 9]]\n",
      "Remove Row 0:\n",
      "[[4 5 6]\n",
      " [7 8 9]]\n",
      "Remove Row 1:\n",
      "[[1 2 3]\n",
      " [7 8 9]]\n",
      "Remove Row 2:\n",
      "[[1 2 3]\n",
      " [4 5 6]]\n"
     ]
    }
   ],
   "source": [
    "two_dimensional_array = np.array(\n",
    "    [[ 1, 2, 3], \n",
    "     [ 4, 5, 6],\n",
    "     [ 7, 8, 9]]\n",
    ")\n",
    "\n",
    "print(\"Original Array:\\n{}\".format(two_dimensional_array))\n",
    "\n",
    "def remove_row(row_idx, two_d_array):\n",
    "    top_table = two_d_array[0:row_idx]\n",
    "    bottom_table = two_d_array[row_idx+1:]\n",
    "    return np.vstack((top_table, bottom_table))\n",
    "\n",
    "print(\"Remove Row 0:\\n{}\".format(remove_row(0, two_dimensional_array)))\n",
    "print(\"Remove Row 1:\\n{}\".format(remove_row(1, two_dimensional_array)))\n",
    "print(\"Remove Row 2:\\n{}\".format(remove_row(2, two_dimensional_array)))"
   ]
  },
  {
   "cell_type": "code",
   "execution_count": 114,
   "metadata": {},
   "outputs": [
    {
     "name": "stdout",
     "output_type": "stream",
     "text": [
      "Original Array:\n",
      "[[1 2 3]\n",
      " [4 5 6]\n",
      " [7 8 9]]\n",
      "Remove Col 0:\n",
      "[[2 3]\n",
      " [5 6]\n",
      " [8 9]]\n",
      "Remove Col 1:\n",
      "[[1 3]\n",
      " [4 6]\n",
      " [7 9]]\n",
      "Remove Col 2:\n",
      "[[1 2]\n",
      " [4 5]\n",
      " [7 8]]\n"
     ]
    }
   ],
   "source": [
    "two_dimensional_array = np.array(\n",
    "    [[ 1, 2, 3], \n",
    "     [ 4, 5, 6],\n",
    "     [ 7, 8, 9]]\n",
    ")\n",
    "\n",
    "print(\"Original Array:\\n{}\".format(two_dimensional_array))\n",
    "\n",
    "def remove_col(col_idx, two_d_array):\n",
    "    left_table = two_d_array[:,0:col_idx]\n",
    "    right_table = two_d_array[:,col_idx+1:]\n",
    "    return np.hstack((left_table, right_table))\n",
    "\n",
    "print(\"Remove Col 0:\\n{}\".format(remove_col(0, two_dimensional_array)))\n",
    "print(\"Remove Col 1:\\n{}\".format(remove_col(1, two_dimensional_array)))\n",
    "print(\"Remove Col 2:\\n{}\".format(remove_col(2, two_dimensional_array)))"
   ]
  }
 ],
 "metadata": {
  "kernelspec": {
   "display_name": "Python 3.8.13 ('venv': venv)",
   "language": "python",
   "name": "python3"
  },
  "language_info": {
   "codemirror_mode": {
    "name": "ipython",
    "version": 3
   },
   "file_extension": ".py",
   "mimetype": "text/x-python",
   "name": "python",
   "nbconvert_exporter": "python",
   "pygments_lexer": "ipython3",
   "version": "3.8.13"
  },
  "orig_nbformat": 4,
  "vscode": {
   "interpreter": {
    "hash": "509fe4376120166f33c1c7aee835fa0e8c6f470a53415ee41ef7f0087357240e"
   }
  }
 },
 "nbformat": 4,
 "nbformat_minor": 2
}
