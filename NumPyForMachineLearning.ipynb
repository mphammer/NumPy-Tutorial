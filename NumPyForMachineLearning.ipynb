{
 "cells": [
  {
   "cell_type": "markdown",
   "metadata": {},
   "source": [
    "# Numpy Tutorial for Machine Learning\n",
    "\n",
    "This tutorial will teach you the basic skills needed to use NumPy for Machine Learning. It will provide a brief overview of NumPy's core features and then focus more specifically on aspects that are useful for Machine Learning problems.  \n",
    "\n",
    "**What is NumPy?**   \n",
    "\"NumPy is the fundamental package for scientific computing in Python. It is a Python library that provides a multidimensional array object, various derived objects (such as masked arrays and matrices), and an assortment of routines for fast operations on arrays...\" - [NumPy.org](https://numpy.org/doc/stable/user/quickstart.html)\n",
    "\n",
    "**How does NumPy Relate to Machine Learning?**  \n",
    "As the definition states, \"NumPy is the fundamental package for scientific computing in Python\". This means that popular Python libraries for machine learning are built on top of it (For example, [Pandas](https://pandas.pydata.org/docs/index.html), [Scikit-Learn](https://scikit-learn.org/stable/), and [matplotlib](https://matplotlib.org/)). It's common to use NumPy's n-dimensional array when using the other libraries or for the other libraries to have similar functionality. \n",
    "\n",
    "The fundamental building block of NumPy is the multidimensinal array. The NumPy array can show up in different ways during a Machine Learning problem but it will commonly represent your Dataset, pieces of your Dataset, or ouput from methods like predicting values or calculating accuracy scores. Therefore, the most important things to know are how to look at values, create/read/update/delete rows (examples), and create/read/update/delete columns (features). \n",
    "\n",
    "**Extra Learning**  \n",
    "The guides on [numpy.org](https://numpy.org/doc/stable/user/quickstart.html) are very good and largely what this guide is based on.  "
   ]
  },
  {
   "cell_type": "markdown",
   "metadata": {},
   "source": [
    "## Set Up Your Environment and Import NumPy"
   ]
  },
  {
   "cell_type": "markdown",
   "metadata": {},
   "source": [
    "Create a Virtual Environment (For Mac)  \n",
    "```\n",
    "$ python -m venv venv  \n",
    "$ source venv/bin/activate  \n",
    "```\n",
    "\n",
    "Install numpy  \n",
    "```$ pip install numpy  ```"
   ]
  },
  {
   "cell_type": "code",
   "execution_count": 1,
   "metadata": {},
   "outputs": [],
   "source": [
    "import numpy as np"
   ]
  },
  {
   "cell_type": "markdown",
   "metadata": {},
   "source": [
    "## Introducing the Homogeneous N-Dimensional array\n",
    "\n",
    "The homogenous n-dimensional array (narray) is the core of NumPy. \n",
    "\n",
    "The main features:\n",
    "- Homogeneous - all its values are of one type\n",
    "- N-dimensinoal (multidimensional)\n",
    "- Extra Operations - it has more methods/operations than Python's built in array\n",
    "- Fixed size - adding elements creates an entire new array\n",
    "- Fast - operations are much faster than Python's built in array (list)\n",
    "\n",
    "Note: Each dimension is called an \"axis\". So a 3-dimensional array has 3 axis."
   ]
  },
  {
   "cell_type": "markdown",
   "metadata": {},
   "source": [
    "### A Look At How Arrays Are Multi-Dimensional and Homogenous"
   ]
  },
  {
   "cell_type": "code",
   "execution_count": 42,
   "metadata": {},
   "outputs": [
    {
     "name": "stdout",
     "output_type": "stream",
     "text": [
      "Standard Python Array (list):\n",
      "[1, 2, 3, 4]\n",
      "<class 'list'>\n",
      "\n",
      "A One Dimensional NumPy array that we created from the Python array:\n",
      "[1 2 3 4]\n",
      "<class 'numpy.ndarray'>\n"
     ]
    }
   ],
   "source": [
    "print(\"Standard Python Array (list):\")\n",
    "one_dimensional_python_array = [1,2,3,4]\n",
    "print(one_dimensional_python_array)\n",
    "print(type(one_dimensional_python_array))\n",
    "print()\n",
    "\n",
    "print(\"A One Dimensional NumPy array that we created from the Python array:\")\n",
    "one_dimensional_numpy_array = np.array([1,2,3,4])\n",
    "print(one_dimensional_numpy_array)\n",
    "print(type(one_dimensional_numpy_array))"
   ]
  },
  {
   "cell_type": "code",
   "execution_count": 41,
   "metadata": {},
   "outputs": [
    {
     "name": "stdout",
     "output_type": "stream",
     "text": [
      "Python arrays (lists) aren't really multidimensional. They do not have buult in methods for finding their shape or dimensions\n",
      "[[1, 2, 3, 4], [5, 6, 7, 8]]\n",
      "Shape: (2, 4)\n",
      "Size: 8\n",
      "Dimensions: 2\n",
      "\n",
      "NumPy Array:\n",
      "[[1 2 3 4]\n",
      " [5 6 7 8]]\n",
      "Shape: (2, 4)\n",
      "Size: 8\n",
      "Dimensions: 2\n"
     ]
    }
   ],
   "source": [
    "print(\"Python arrays (lists) aren't really multidimensional. They do not have buult in methods for finding their shape or dimensions\")\n",
    "two_dimensional_python_array = [[1,2,3,4], [5,6,7,8]]\n",
    "rows = len(two_dimensional_python_array)\n",
    "cols = len(two_dimensional_python_array[0])\n",
    "print(two_dimensional_python_array)\n",
    "print(\"Shape: {}\".format((rows, cols)))\n",
    "print(\"Size: {}\".format(rows*cols))\n",
    "dimensions = 0\n",
    "temp_array = two_dimensional_python_array\n",
    "while type(temp_array) == list:\n",
    "    dimensions += 1\n",
    "    temp_array = temp_array[0]\n",
    "print(\"Dimensions: {}\".format(dimensions))\n",
    "print()\n",
    "\n",
    "print(\"NumPy Array:\")\n",
    "two_dimensional_numpy_array = np.array([[1,2,3,4], [5,6,7,8]])\n",
    "print(two_dimensional_numpy_array)\n",
    "print(\"Shape: {}\".format(two_dimensional_numpy_array.shape))\n",
    "print(\"Size: {}\".format(two_dimensional_numpy_array.size))\n",
    "print(\"Dimensions: {}\".format(two_dimensional_numpy_array.ndim))"
   ]
  },
  {
   "cell_type": "code",
   "execution_count": 44,
   "metadata": {},
   "outputs": [
    {
     "name": "stdout",
     "output_type": "stream",
     "text": [
      "Three Dimensional Array:\n",
      "[[[1 2 3 4]]\n",
      "\n",
      " [[5 6 7 8]]]\n",
      "Shape: (2, 1, 4)\n",
      "Size: 8\n",
      "Dimensions: 3\n",
      "\n",
      "Three Dimensional Array:\n",
      "[[[1 2]\n",
      "  [3 4]]\n",
      "\n",
      " [[5 6]\n",
      "  [7 8]]]\n",
      "Shape: (2, 2, 2)\n",
      "Size: 8\n",
      "Dimensions: 3\n"
     ]
    }
   ],
   "source": [
    "print(\"Three Dimensional Array:\")\n",
    "three_dimensional_python_array_1 = np.array(\n",
    "    [[[1,2,3,4]],\n",
    "    [[5,6,7,8]]]\n",
    ")\n",
    "print(three_dimensional_python_array_1)\n",
    "print(\"Shape: {}\".format(three_dimensional_python_array_1.shape))\n",
    "print(\"Size: {}\".format(three_dimensional_python_array_1.size))\n",
    "print(\"Dimensions: {}\".format(three_dimensional_python_array_1.ndim))\n",
    "print()\n",
    "\n",
    "print(\"Three Dimensional Array:\")\n",
    "three_dimensional_python_array_2 = np.array(\n",
    "    [[[1,2],[3,4]],\n",
    "    [[5,6],[7,8]]]\n",
    ")\n",
    "print(three_dimensional_python_array_2)\n",
    "print(\"Shape: {}\".format(three_dimensional_python_array_2.shape))\n",
    "print(\"Size: {}\".format(three_dimensional_python_array_2.size))\n",
    "print(\"Dimensions: {}\".format(three_dimensional_python_array_2.ndim))"
   ]
  },
  {
   "cell_type": "code",
   "execution_count": 45,
   "metadata": {},
   "outputs": [
    {
     "name": "stdout",
     "output_type": "stream",
     "text": [
      "Four Dimensional Array\n",
      "[[[[1 2 3 4]]\n",
      "\n",
      "  [[5 6 7 8]]]]\n",
      "Shape: (1, 2, 1, 4)\n",
      "Size: 8\n",
      "Dimensions: 4\n",
      "\n",
      "Four Dimensional Array\n",
      "[[[[1]\n",
      "   [2]]\n",
      "\n",
      "  [[3]\n",
      "   [4]]]\n",
      "\n",
      "\n",
      " [[[5]\n",
      "   [6]]\n",
      "\n",
      "  [[7]\n",
      "   [8]]]]\n",
      "Shape: (2, 2, 2, 1)\n",
      "Size: 8\n",
      "Dimensions: 4\n"
     ]
    }
   ],
   "source": [
    "print(\"Four Dimensional Array\")\n",
    "four_dimensional_python_array_1 = np.array(\n",
    "    [[[[1,2,3,4]],\n",
    "    [[5,6,7,8]]]]\n",
    ")\n",
    "print(four_dimensional_python_array_1)\n",
    "print(\"Shape: {}\".format(four_dimensional_python_array_1.shape))\n",
    "print(\"Size: {}\".format(four_dimensional_python_array_1.size))\n",
    "print(\"Dimensions: {}\".format(four_dimensional_python_array_1.ndim))\n",
    "print()\n",
    "\n",
    "print(\"Four Dimensional Array\")\n",
    "four_dimensional_python_array_2 = np.array(\n",
    "    [[[[1],[2]], [[3],[4]]],[[[5],[6]], [[7],[8]]]]\n",
    ")\n",
    "print(four_dimensional_python_array_2)\n",
    "print(\"Shape: {}\".format(four_dimensional_python_array_2.shape))\n",
    "print(\"Size: {}\".format(four_dimensional_python_array_2.size))\n",
    "print(\"Dimensions: {}\".format(four_dimensional_python_array_2.ndim))"
   ]
  },
  {
   "cell_type": "markdown",
   "metadata": {},
   "source": [
    "#### Quick Look At How Arrays Are Printed\n",
    "\n",
    "- The last dimension (axis) is printed horizontally.  \n",
    "- The 2nd to last dimension (axis) is printed vertically.  \n",
    "- The other dimensions (axis) are separated by empty lines. And there is an extra line for each additional dimension.  \n",
    "\n",
    "**One Dimensional**  \n",
    "There is only a \"last dimension\" so it's just printed horizontally. \n",
    "```\n",
    "[0 1 2 3]\n",
    "```\n",
    "\n",
    "**Two Dimensions**  \n",
    "Each item in the second to last dimension are printed on a new row (vertically).  \n",
    "And the last dimension is printed horixontally.  \n",
    "```\n",
    "[[1 2 3]\n",
    " [4 5 6]]\n",
    "```\n",
    "\n",
    "**Three Dimensions**  \n",
    "The items in the third dimension are separated by a single space.  \n",
    "Notice how it looks like two \"two dimensional\" arrays are separated by an empty line.  \n",
    "```\n",
    "[[[ 1  2  3]\n",
    "  [ 4  5  6]]\n",
    "  \n",
    " [[ 7  8  9]\n",
    "  [10 22 12]]]\n",
    "```\n",
    "\n",
    "**Four Dimensions**\n",
    "The items in the fourth dimension are separated by two spaces.  \n",
    "The items in the third dimension are still separated by a single space.  \n",
    "```\n",
    "[[[[ 0  1  2]\n",
    "   [ 3  4  5]]\n",
    "\n",
    "  [[ 6  7  8]\n",
    "   [ 9 10 11]]]\n",
    "\n",
    "\n",
    " [[[12 13 14]\n",
    "   [15 16 17]]\n",
    "\n",
    "  [[18 19 20]\n",
    "   [21 22 23]]]]\n",
    "```"
   ]
  },
  {
   "cell_type": "markdown",
   "metadata": {},
   "source": [
    "### Basic Array Operations"
   ]
  },
  {
   "cell_type": "code",
   "execution_count": 52,
   "metadata": {},
   "outputs": [
    {
     "name": "stdout",
     "output_type": "stream",
     "text": [
      "[-2  0  2]\n",
      "[4 4 4]\n",
      "[2 4 6]\n",
      "[9 4 1]\n"
     ]
    }
   ],
   "source": [
    "# Elementwise arithmetic operators\n",
    "a = np.array([1,2,3])\n",
    "b = np.array([3,2,1])\n",
    "print(a-b)  # [(1-3) (2-2) (3-1)]\n",
    "print(a+b)  # [(1+3) (2+2) (3+1)]\n",
    "print(a*2)  # [(1*2) (2*2) (3*2)]\n",
    "print(b**2) # [(3^2) (2^2) (1^2)]"
   ]
  },
  {
   "cell_type": "markdown",
   "metadata": {},
   "source": [
    "### Basic Array Methods"
   ]
  },
  {
   "cell_type": "code",
   "execution_count": 57,
   "metadata": {},
   "outputs": [
    {
     "name": "stdout",
     "output_type": "stream",
     "text": [
      "The Sum of All Elements is: 66\n",
      "The Sum of Each Column is: [12 15 18 21]\n",
      "The Sum of Each Row is: [ 6 22 38]\n",
      "The Min Elements is: 0\n",
      "The Min of Each Column: [0 1 2 3]\n",
      "The Max Elements is: 11\n",
      "The Max of Each Row: [ 3  7 11]\n"
     ]
    }
   ],
   "source": [
    "np_array = np.array([[ 0,  1,  2,  3],\n",
    "       [ 4,  5,  6,  7],\n",
    "       [ 8,  9, 10, 11]])\n",
    "print(\"The Sum of All Elements is: {}\".format(np_array.sum()))\n",
    "print(\"The Sum of Each Column is: {}\".format(np_array.sum(axis=0)))\n",
    "print(\"The Sum of Each Row is: {}\".format(np_array.sum(axis=1)))\n",
    "print(\"The Min Elements is: {}\".format(np_array.min()))\n",
    "print(\"The Min of Each Column: {}\".format(np_array.min(axis=0)))\n",
    "print(\"The Max Elements is: {}\".format(np_array.max()))\n",
    "print(\"The Max of Each Row: {}\".format(np_array.max(axis=1)))"
   ]
  },
  {
   "cell_type": "markdown",
   "metadata": {},
   "source": [
    "## Indexing Arrays  \n",
    "For each axis (dimension) there can be 1 index.\n",
    "Looking at the `.shape` attribute is a useful way to know what the range of values is for each dimension.  "
   ]
  },
  {
   "cell_type": "code",
   "execution_count": 85,
   "metadata": {},
   "outputs": [
    {
     "name": "stdout",
     "output_type": "stream",
     "text": [
      "Dimensions: 1; Shape: (3,)\n",
      "one_dimensional_array[0] = 1\n",
      "one_dimensional_array[1] = 2\n",
      "\n",
      "Dimensions: 2; Shape: (2, 3)\n",
      "two_dimensional_array[0,0] = 1\n",
      "two_dimensional_array[1,3] = 6\n",
      "two_dimensional_array[0] = [1 2 3]\n",
      "\n",
      "Dimensions: 3; Shape: (2, 2, 4)\n",
      "three_dimensional_array[0,0] = [1 2 3 4]\n",
      "three_dimensional_array[0,1] = [5 6 7 8]\n",
      "three_dimensional_array[1,0] = [ 9 10 11 12]\n",
      "three_dimensional_array[1,1] = [13 14 15 16]\n",
      "\n"
     ]
    }
   ],
   "source": [
    "one_dimensional_array = np.array(\n",
    "    [1,2,3]\n",
    ")\n",
    "two_dimensional_array = np.array(\n",
    "    [[1,2,3], \n",
    "    [4,5,6]]\n",
    ")\n",
    "three_dimensional_array = np.array(\n",
    "    [\n",
    "        [[ 1, 2, 3, 4],\n",
    "         [ 5, 6, 7, 8]],\n",
    "\n",
    "        [[ 9,10,11,12],\n",
    "         [13,14,15,16]],\n",
    "    ]\n",
    ")\n",
    "print(\"Dimensions: {}; Shape: {}\".format(one_dimensional_array.ndim, one_dimensional_array.shape))\n",
    "print(\"one_dimensional_array[0] = {}\".format(one_dimensional_array[0]))\n",
    "print(\"one_dimensional_array[1] = {}\".format(one_dimensional_array[1]))\n",
    "print()\n",
    "\n",
    "print(\"Dimensions: {}; Shape: {}\".format(two_dimensional_array.ndim, two_dimensional_array.shape))\n",
    "print(\"two_dimensional_array[0,0] = {}\".format(two_dimensional_array[0,0]))\n",
    "print(\"two_dimensional_array[1,3] = {}\".format(two_dimensional_array[1,2]))\n",
    "print(\"two_dimensional_array[0] = {}\".format(two_dimensional_array[0]))\n",
    "print()\n",
    "\n",
    "print(\"Dimensions: {}; Shape: {}\".format(three_dimensional_array.ndim, three_dimensional_array.shape))\n",
    "print(\"three_dimensional_array[0,0] = {}\".format(three_dimensional_array[0,0]))\n",
    "print(\"three_dimensional_array[0,1] = {}\".format(three_dimensional_array[0,1]))\n",
    "print(\"three_dimensional_array[1,0] = {}\".format(three_dimensional_array[1,0]))\n",
    "print(\"three_dimensional_array[1,1] = {}\".format(three_dimensional_array[1,1]))\n",
    "print()"
   ]
  },
  {
   "cell_type": "code",
   "execution_count": 104,
   "metadata": {},
   "outputs": [
    {
     "name": "stdout",
     "output_type": "stream",
     "text": [
      "Use the Shape of the NumPy Array to print each element:\n",
      "Shape: (2, 2, 4)\n",
      "1 2 3 4 \n",
      "5 6 7 8 \n",
      "\n",
      "9 10 11 12 \n",
      "13 14 15 16 \n",
      "\n"
     ]
    }
   ],
   "source": [
    "print(\"Use the Shape of the NumPy Array to print each element:\")\n",
    "def print_array(np_array):\n",
    "    # Base Case: Print each element if it's the last demension (aka it's a 1D array)\n",
    "    if np_array.ndim == 1:\n",
    "        for element in np_array:\n",
    "            print(\"{} \".format(element), end=\"\")\n",
    "        return \n",
    "    # Loop over each sub-np_array at this dimension\n",
    "    shape = np_array.shape\n",
    "    num_np_arrays = shape[0]\n",
    "    for i in range(num_np_arrays):\n",
    "        print_array(np_array[i])\n",
    "        print()\n",
    "\n",
    "print(\"Shape: {}\".format(three_dimensional_array.shape))\n",
    "print_array(three_dimensional_array)\n"
   ]
  },
  {
   "cell_type": "markdown",
   "metadata": {},
   "source": [
    "## Slicing Arrays\n",
    "\n",
    "For each axis (dimension) there can be 1 slice. Again, it's useful to look at the `.shape` attribute.  "
   ]
  },
  {
   "cell_type": "code",
   "execution_count": 112,
   "metadata": {},
   "outputs": [
    {
     "name": "stdout",
     "output_type": "stream",
     "text": [
      "Dimensions: 1; Shape: (6,)\n",
      "one_dimensional_array[1:] = [2 3 4 5 6]\n",
      "one_dimensional_array[1:4] = [2 3 4]\n",
      "one_dimensional_array[:] = [1 2 3 4 5 6]\n",
      "\n",
      "Dimensions: 2; Shape: (2, 6)\n",
      "two_dimensional_array[:,0] = [1 7] # Get all elements in the first dimension and take the 0th index (1st column)\n",
      "two_dimensional_array[:,1] = [1 7] # Get all elements in the first dimension and take the 1st index (2nd column)\n",
      "two_dimensional_array[0,:] = [1 2 3 4 5 6] # Get the first element in the first dimension and take all elements (1st row)\n",
      "two_dimensional_array[0:2,0:2] = [[1 2]\n",
      " [7 8]]\n",
      "\n",
      "Dimensions: 3; Shape: (2, 2, 6)\n",
      "three_dimensional_array[0,0:2,0:2] = [[1 2]\n",
      " [7 8]]\n",
      "three_dimensional_array[1,0:2,0:2] = [[13 14]\n",
      " [19 20]]\n",
      "\n"
     ]
    }
   ],
   "source": [
    "one_dimensional_array = np.array(\n",
    "    [1,2,3,4,5,6]\n",
    ")\n",
    "two_dimensional_array = np.array(\n",
    "    [[ 1, 2, 3, 4, 5, 6], \n",
    "     [ 7, 8, 9,10,11,12]]\n",
    ")\n",
    "three_dimensional_array = np.array(\n",
    "    [\n",
    "        [[ 1, 2, 3, 4, 5, 6],\n",
    "         [ 7, 8, 9,10,11,12]],\n",
    "\n",
    "        [[13,14,15,16,17,18],\n",
    "         [19,20,21,22,23,24]],\n",
    "    ]\n",
    ")\n",
    "print(\"Dimensions: {}; Shape: {}\".format(one_dimensional_array.ndim, one_dimensional_array.shape))\n",
    "print(\"one_dimensional_array[1:] = {}\".format(one_dimensional_array[1:]))\n",
    "print(\"one_dimensional_array[1:4] = {}\".format(one_dimensional_array[1:4]))\n",
    "print(\"one_dimensional_array[:] = {}\".format(one_dimensional_array[:]))\n",
    "print()\n",
    "\n",
    "print(\"Dimensions: {}; Shape: {}\".format(two_dimensional_array.ndim, two_dimensional_array.shape))\n",
    "print(\"two_dimensional_array[:,0] = {} # Get all elements in the first dimension and take the 0th index (1st column)\".format(two_dimensional_array[:,0]))\n",
    "print(\"two_dimensional_array[:,1] = {} # Get all elements in the first dimension and take the 1st index (2nd column)\".format(two_dimensional_array[:,0]))\n",
    "print(\"two_dimensional_array[0,:] = {} # Get the first element in the first dimension and take all elements (1st row)\".format(two_dimensional_array[0,:]))\n",
    "print(\"two_dimensional_array[0:2,0:2] = {}\".format(two_dimensional_array[0:2,0:2]))\n",
    "print()\n",
    "\n",
    "print(\"Dimensions: {}; Shape: {}\".format(three_dimensional_array.ndim, three_dimensional_array.shape))\n",
    "print(\"three_dimensional_array[0,0:2,0:2] = {}\".format(three_dimensional_array[0,0:2,0:2]))\n",
    "print(\"three_dimensional_array[1,0:2,0:2] = {}\".format(three_dimensional_array[1,0:2,0:2]))\n",
    "print()"
   ]
  }
 ],
 "metadata": {
  "kernelspec": {
   "display_name": "Python 3.8.13 ('venv': venv)",
   "language": "python",
   "name": "python3"
  },
  "language_info": {
   "codemirror_mode": {
    "name": "ipython",
    "version": 3
   },
   "file_extension": ".py",
   "mimetype": "text/x-python",
   "name": "python",
   "nbconvert_exporter": "python",
   "pygments_lexer": "ipython3",
   "version": "3.8.13"
  },
  "orig_nbformat": 4,
  "vscode": {
   "interpreter": {
    "hash": "509fe4376120166f33c1c7aee835fa0e8c6f470a53415ee41ef7f0087357240e"
   }
  }
 },
 "nbformat": 4,
 "nbformat_minor": 2
}
